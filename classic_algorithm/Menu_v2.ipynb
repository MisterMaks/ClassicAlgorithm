{
 "cells": [
  {
   "cell_type": "markdown",
   "metadata": {},
   "source": [
    "# Импортируем необходимые функции:\n",
    "1. real - функция проверки, что введенное значение - вещественное число (тип данных \"real\")\n",
    "2. positive - функция проверки, что введенное значение - положительное число (тип данных \"positive\")\n",
    "3. natural - функция проверки, что введенное значение - натуральное число (тип данных \"natural\")\n",
    "4. probability - функция проверки, что введенное значение принадлежит диапозону [0, 1] - для вероятностей (тип данных \"probability\")\n",
    "5. check_filename - функция проверки существования файла в текущей директории (папке) (тип данных \"filename\")"
   ]
  },
  {
   "cell_type": "code",
   "execution_count": 1,
   "metadata": {},
   "outputs": [],
   "source": [
    "# import pandas as pd\n",
    "import time\n",
    "\n",
    "from number_types import real, positive, natural\n",
    "from probability import probability\n",
    "from check_filename import check_filename\n",
    "from fitness_all_type_types import check_fitness_all_type_types as check_fit_types"
   ]
  },
  {
   "cell_type": "markdown",
   "metadata": {},
   "source": [
    "# Класс для чтения вводимых данных: Menu_of_classic_genetic_algoritm\n",
    "# Принимает на вход словарь в формате:\n",
    "## {\"task\": \"(Название задачи)\", \"options\": [{\"(Название параметра 1)\": None, \"type\": \"(Тип данных для этого параметра)\"}, {\"(Название параметра 2)\": None, \"type\": \"(Тип данных для этого параметра)\"}]}"
   ]
  },
  {
   "cell_type": "markdown",
   "metadata": {},
   "source": [
    "# Поддерживаемые типы данных:\n",
    "\n",
    "1. real - вещественные числа\n",
    "2. positive - положительные числа\n",
    "3. natural - натуральные числа\n",
    "4. probability - тип для вероятностей, число принадлежит диапозону [0, 1]\n",
    "5. filename - тип для файлов, если нужно работать с файлами, то функция проверит, что файл существует\n",
    "6. str - используется для строковых значений\n",
    "7. Также есть поддержка основных типов int, float - если будете их использовать, то ошибки и невалидные данные обрабатывайте сами!!!\n",
    "\n",
    "** Типы данных указываются в словаре в кавычках"
   ]
  },
  {
   "cell_type": "markdown",
   "metadata": {},
   "source": [
    "# Пример будет ниже"
   ]
  },
  {
   "cell_type": "code",
   "execution_count": 2,
   "metadata": {},
   "outputs": [],
   "source": [
    "class Menu_of_classic_genetic_algorithm:\n",
    "    \n",
    "    def __init__(self, task_dict):\n",
    "\n",
    "        self.task_dict = task_dict\n",
    "        \n",
    "        self.common_options = [{\"n_iter\": 50, \"type\": \"natural\"}, {\"eps\": 0.5, \"type\": \"positive\"}, \n",
    "                               {\"fitness_all_type\": \"max\", \"type\": \"fit\"}, \n",
    "                               {\"parent_selection_type\": \"something\", \"type\": \"str\"}, \n",
    "                               {\"cross_type\": \"something\", \"type\": \"str\"}, \n",
    "                               {\"p_cross\": 0.5, \"type\": \"probability\"}, \n",
    "                               {\"mutation_type\": \"something\", \"type\": \"str\"}, \n",
    "                               {\"p_mutation\": 0.1, \"type\": \"probability\"}, \n",
    "                               {\"size_of_population\": 50, \"type\": \"natural\"}]\n",
    "        \n",
    "        self.functions_for_type = {\"float\": float, \"int\": int, \"str\": str, \n",
    "                                   \"probability\": probability, \"positive\": positive, \n",
    "                                   \"natural\": natural, \"real\": real, \"filename\": check_filename, \n",
    "                                   \"fit\": check_fit_types}\n",
    "        \n",
    "        self.unpack_common_options()\n",
    "        \n",
    "        # Дополнительные возможности для разработчика!!! Работа данного блока кода не предусмотрена!!! \n",
    "        \n",
    "        \"\"\"\n",
    "        self.functions_for_type.update({\"dataset\": self.read_dataset, \"matrix\": self.read_matrix})\n",
    "        \"\"\"\n",
    "        \n",
    "        if self.check_types_options() is \"Error\":\n",
    "            return None\n",
    "        \n",
    "        self.task_dict_full = self.task_dict\n",
    "        self.task_dict_full[\"options\"] = self.common_options + self.task_dict_full[\"options\"]\n",
    "        \n",
    "        time.sleep(1)\n",
    "        \n",
    "        self.input_data()\n",
    "        print(\"SUCCESSFUL\")\n",
    "        self.unpack_options()\n",
    "        self.unpack_task_with_options() \n",
    "    \n",
    "    \n",
    "    def check_types_options(self):\n",
    "        for option in self.task_dict[\"options\"]:\n",
    "            if option[\"type\"] not in self.functions_for_type.keys():\n",
    "                print()\n",
    "                print(\"Ошибка типа данных! Проверьте типы!!!\")\n",
    "                return \"Error\"\n",
    "        return None\n",
    "            \n",
    "    \n",
    "    def input_data(self):\n",
    "        option_key = 0\n",
    "        for option in range(len(self.task_dict_full[\"options\"])):\n",
    "            option_key = list(self.task_dict_full[\"options\"][option].keys())[0]\n",
    "            type_of_data = self.task_dict_full[\"options\"][option][\"type\"]\n",
    "            function = self.functions_for_type[type_of_data]\n",
    "            \n",
    "            if type_of_data is \"filename\":\n",
    "                message = (\"Введите имя файла для '{}'\\n\" +\n",
    "                \"hint: (файл должен находиться в текущей директории):\").format(option_key)\n",
    "            else:\n",
    "                message = \"Введите '{}':\".format(option_key)\n",
    "                \n",
    "            print(message)\n",
    "            \n",
    "            time.sleep(0.1)\n",
    "            \n",
    "            input_data = input()\n",
    "            if input_data == \"\" and option_key in list(self.dict_common_options.keys()):\n",
    "                input_data = str(self.task_dict_full[\"options\"][option][option_key])\n",
    "                self.task_dict_full[\"options\"][option][option_key] = function(input_data)\n",
    "                print(self.task_dict_full[\"options\"][option][option_key])\n",
    "            elif input_data == \"\":\n",
    "                input_data = str(self.task_dict_full[\"options\"][option][option_key])\n",
    "                self.task_dict_full[\"options\"][option][option_key] = function(input_data)\n",
    "            else:\n",
    "                self.task_dict_full[\"options\"][option][option_key] = function(input_data)\n",
    "            print(\"-\" * len(message))\n",
    "            \n",
    "            print()\n",
    "            \n",
    "        return None\n",
    "    \n",
    "    \n",
    "    def unpack_options(self):\n",
    "        self.options = {}\n",
    "        for option in self.task_dict[\"options\"]:\n",
    "            option_key = list(option.keys())[0]\n",
    "            option_value = option[option_key]\n",
    "            self.options[option_key] = option_value\n",
    "        return None\n",
    "    \n",
    "    \n",
    "    def unpack_common_options(self):\n",
    "        self.dict_common_options = {}\n",
    "        for option in self.common_options:\n",
    "            option_key = list(option.keys())[0]\n",
    "            option_value = option[option_key]\n",
    "            self.dict_common_options[option_key] = option_value\n",
    "        return None\n",
    "    \n",
    "    \n",
    "    def unpack_task_with_options(self):\n",
    "        self.task_with_options = {}\n",
    "        self.task_with_options[\"task\"] = self.task_dict_full[\"task\"]\n",
    "        self.task_with_options.update(self.options)\n",
    "        return None\n",
    "            \n",
    "    \n",
    "    # Дополнительные возможности для разработчика!!! Работа данного блока кода не предусмотрена!!!  \n",
    "    \n",
    "    \"\"\"                            \n",
    "    def read_dataset(self, filename):\n",
    "        full_file_path = \"./\" + filename\n",
    "        try:\n",
    "            dataset = pd.read_csv(full_file_path)\n",
    "        except FileNotFoundError:\n",
    "            print()\n",
    "            print(\"Файл не найден! Попробуйте еще раз!\")\n",
    "            filename = input()\n",
    "            return self.read_dataset(filename)\n",
    "        \n",
    "        pd.options.display.max_columns = 5\n",
    "        pd.options.display.max_rows = 5\n",
    "        \n",
    "        print()\n",
    "        print(dataset.head())\n",
    "        \n",
    "        return dataset\n",
    "\n",
    "    \n",
    "    def read_matrix(self, filename):\n",
    "        full_file_path = \"./\" + filename\n",
    "        \n",
    "        try:\n",
    "            matrix = pd.read_csv(full_file_path, header=None, sep=\";\").values.tolist()\n",
    "        except FileNotFoundError:\n",
    "            print()\n",
    "            print(\"Файл не найден! Попробуйте еще раз!\")\n",
    "            filename = input()\n",
    "            return self.read_matrix(filename)\n",
    "        \n",
    "        print()\n",
    "        print(matrix)\n",
    "        \n",
    "        return matrix\n",
    "    \"\"\"    \n",
    "    "
   ]
  },
  {
   "cell_type": "markdown",
   "metadata": {},
   "source": [
    "# Примеры для \"Отбора признаков\" и \"Коммивояжера\""
   ]
  },
  {
   "cell_type": "code",
   "execution_count": 3,
   "metadata": {},
   "outputs": [],
   "source": [
    "feature_selection = {\"task\": \"feature_selection\", \"options\": [{\"dataset\": None, \"type\": \"filename\"}]}\n",
    "travelling_salesman = {\"task\": \"travelling_salesman\", \"options\": [{\"n_cities\": None, \"type\": \"natural\"}, \n",
    "                                                                  {\"matrix\": None, \"type\": \"filename\"}]}"
   ]
  },
  {
   "cell_type": "markdown",
   "metadata": {},
   "source": [
    "# Пример работы программы"
   ]
  },
  {
   "cell_type": "code",
   "execution_count": 4,
   "metadata": {},
   "outputs": [
    {
     "name": "stdout",
     "output_type": "stream",
     "text": [
      "Введите 'n_iter':\n",
      "-9\n",
      "\n",
      "Error: -9.0 - ненатуральное число\n",
      "Повторите ввод\n",
      "0\n",
      "\n",
      "Error: 0.0 - ненатуральное число\n",
      "Повторите ввод\n",
      "dhf\n",
      "\n",
      "Error: dhf - не число!\n",
      "Повторите ввод\n",
      "12\n",
      "-----------------\n",
      "\n",
      "Введите 'eps':\n",
      "-7\n",
      "\n",
      "Error: -7.0 <= 0\n",
      "Повторите ввод\n",
      "0\n",
      "\n",
      "Error: 0.0 <= 0\n",
      "Повторите ввод\n",
      "i\n",
      "\n",
      "Error: i - не число!\n",
      "Повторите ввод\n",
      "1+2j\n",
      "\n",
      "Error: 1+2j - не число!\n",
      "Повторите ввод\n",
      "\n",
      "\n",
      "Error:  - не число!\n",
      "Повторите ввод\n",
      "0.5\n",
      "--------------\n",
      "\n",
      "Введите 'fitness_all_type':\n",
      "qq\n",
      "\n",
      "Error: qq - невалидный тип!\n",
      "hint: Введите 'max', 'min', 'mean'\n",
      "Повторите ввод\n",
      "min\n",
      "---------------------------\n",
      "\n",
      "Введите 'parent_selection_type':\n",
      "qwertyu\n",
      "--------------------------------\n",
      "\n",
      "Введите 'cross_type':\n",
      "sdgn444414888uuu\n",
      "---------------------\n",
      "\n",
      "Введите 'p_cross':\n",
      "9\n",
      "\n",
      "Error: 9.0 > 1\n",
      "Повторите ввод\n",
      "9-9\n",
      "\n",
      "Error: 9-9 - не число!\n",
      "Повторите ввод\n",
      "0.0909.\n",
      "\n",
      "Error: 0.0909. - не число!\n",
      "Повторите ввод\n",
      "0/8\n",
      "\n",
      "Error: 0/8 - не число!\n",
      "Повторите ввод\n",
      "0\n",
      "------------------\n",
      "\n",
      "Введите 'mutation_type':\n",
      "\n",
      "something\n",
      "------------------------\n",
      "\n",
      "Введите 'p_mutation':\n",
      "\n",
      "0.1\n",
      "---------------------\n",
      "\n",
      "Введите 'size_of_population':\n",
      "4\n",
      "-----------------------------\n",
      "\n",
      "Введите имя файла для 'dataset'\n",
      "hint: (файл должен находиться в текущей директории):\n",
      "\n",
      "\n",
      "Файл 'None' не найден! Попробуйте еще раз!\n",
      "\n",
      "\n",
      "Файл '' не найден! Попробуйте еще раз!\n",
      "tytyty\n",
      "\n",
      "Файл 'tytyty' не найден! Попробуйте еще раз!\n",
      "wine.csv\n",
      "------------------------------------------------------------------------------------\n",
      "\n",
      "SUCCESSFUL\n"
     ]
    }
   ],
   "source": [
    "menu = Menu_of_classic_genetic_algorithm(feature_selection)"
   ]
  },
  {
   "cell_type": "markdown",
   "metadata": {},
   "source": [
    "# Вывод словаря с введенными значениями"
   ]
  },
  {
   "cell_type": "code",
   "execution_count": 5,
   "metadata": {},
   "outputs": [
    {
     "data": {
      "text/plain": [
       "{'task': 'feature_selection',\n",
       " 'options': [{'n_iter': 12, 'type': 'natural'},\n",
       "  {'eps': 0.5, 'type': 'positive'},\n",
       "  {'fitness_all_type': 'min', 'type': 'fit'},\n",
       "  {'parent_selection_type': 'qwertyu', 'type': 'str'},\n",
       "  {'cross_type': 'sdgn444414888uuu', 'type': 'str'},\n",
       "  {'p_cross': 0.0, 'type': 'probability'},\n",
       "  {'mutation_type': 'something', 'type': 'str'},\n",
       "  {'p_mutation': 0.1, 'type': 'probability'},\n",
       "  {'size_of_population': 4, 'type': 'natural'},\n",
       "  {'dataset': 'wine.csv', 'type': 'filename'}]}"
      ]
     },
     "execution_count": 5,
     "metadata": {},
     "output_type": "execute_result"
    }
   ],
   "source": [
    "menu.task_dict_full"
   ]
  },
  {
   "cell_type": "code",
   "execution_count": 6,
   "metadata": {},
   "outputs": [
    {
     "data": {
      "text/plain": [
       "{'n_iter': 12,\n",
       " 'eps': 0.5,\n",
       " 'fitness_all_type': 'min',\n",
       " 'parent_selection_type': 'qwertyu',\n",
       " 'cross_type': 'sdgn444414888uuu',\n",
       " 'p_cross': 0.0,\n",
       " 'mutation_type': 'something',\n",
       " 'p_mutation': 0.1,\n",
       " 'size_of_population': 4,\n",
       " 'dataset': 'wine.csv'}"
      ]
     },
     "execution_count": 6,
     "metadata": {},
     "output_type": "execute_result"
    }
   ],
   "source": [
    "menu.options"
   ]
  },
  {
   "cell_type": "code",
   "execution_count": 7,
   "metadata": {},
   "outputs": [
    {
     "data": {
      "text/plain": [
       "{'task': 'feature_selection',\n",
       " 'n_iter': 12,\n",
       " 'eps': 0.5,\n",
       " 'fitness_all_type': 'min',\n",
       " 'parent_selection_type': 'qwertyu',\n",
       " 'cross_type': 'sdgn444414888uuu',\n",
       " 'p_cross': 0.0,\n",
       " 'mutation_type': 'something',\n",
       " 'p_mutation': 0.1,\n",
       " 'size_of_population': 4,\n",
       " 'dataset': 'wine.csv'}"
      ]
     },
     "execution_count": 7,
     "metadata": {},
     "output_type": "execute_result"
    }
   ],
   "source": [
    "menu.task_with_options"
   ]
  },
  {
   "cell_type": "code",
   "execution_count": null,
   "metadata": {},
   "outputs": [],
   "source": []
  }
 ],
 "metadata": {
  "kernelspec": {
   "display_name": "Python 3",
   "language": "python",
   "name": "python3"
  },
  "language_info": {
   "codemirror_mode": {
    "name": "ipython",
    "version": 3
   },
   "file_extension": ".py",
   "mimetype": "text/x-python",
   "name": "python",
   "nbconvert_exporter": "python",
   "pygments_lexer": "ipython3",
   "version": "3.6.4"
  }
 },
 "nbformat": 4,
 "nbformat_minor": 2
}
