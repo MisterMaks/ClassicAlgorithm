{
 "cells": [
  {
   "cell_type": "markdown",
   "metadata": {},
   "source": [
    "# Импортируем класс для чтения вводимых данных: Menu_of_classic_genetic_algoritm"
   ]
  },
  {
   "cell_type": "code",
   "execution_count": 1,
   "metadata": {},
   "outputs": [],
   "source": [
    "from Menu_v2 import Menu_of_classic_genetic_algorithm as menu\n",
    "import"
   ]
  },
  {
   "cell_type": "markdown",
   "metadata": {},
   "source": [
    "# Класс принимает на вход словарь в формате:\n",
    "## {\"task\": \"(Название задачи)\", \"options\": [{\"(Название параметра 1)\": None, \"type\": \"(Тип данных для этого параметра)\"}, {\"(Название параметра 2)\": None, \"type\": \"(Тип данных для этого параметра)\"}]}"
   ]
  },
  {
   "cell_type": "markdown",
   "metadata": {},
   "source": [
    "# Поддерживаемые типы данных:\n",
    "\n",
    "1. real - вещественные числа\n",
    "2. positive - положительные числа\n",
    "3. natural - натуральные числа\n",
    "4. probability - тип для вероятностей, число принадлежит диапозону [0, 1]\n",
    "5. filename - тип для файлов, если нужно работать с файлами, то функция проверит, что файл существует\n",
    "6. str - используется для строковых значений\n",
    "7. Также есть поддержка основных типов int, float - если будете их использовать, то ошибки и невалидные данные обрабатывайте сами!!!\n",
    "\n",
    "** Типы данных указываются в словаре в кавычках"
   ]
  },
  {
   "cell_type": "markdown",
   "metadata": {},
   "source": [
    "# Примеры словарей для \"Отбора признаков\" и \"Коммивояжера\""
   ]
  },
  {
   "cell_type": "code",
   "execution_count": 2,
   "metadata": {},
   "outputs": [],
   "source": [
    "feature_selection = {\"task\": \"feature_selection\", \"options\": [{\"dataset\": None, \"type\": \"filename\"}]}\n",
    "travelling_salesman = {\"task\": \"travelling_salesman\", \"options\": [{\"n_cities\": None, \"type\": \"natural\"}, \n",
    "                                                                  {\"matrix\": None, \"type\": \"filename\"}]}"
   ]
  },
  {
   "cell_type": "markdown",
   "metadata": {},
   "source": [
    "# Пример работы программы"
   ]
  },
  {
   "cell_type": "code",
   "execution_count": 3,
   "metadata": {},
   "outputs": [
    {
     "name": "stdout",
     "output_type": "stream",
     "text": [
      "Введите 'n_iter':\n",
      "\n",
      "50\n",
      "-----------------\n",
      "\n",
      "Введите 'eps':\n",
      "\n",
      "0.5\n",
      "--------------\n",
      "\n",
      "Введите 'fitness_all_type':\n",
      "\n",
      "max\n",
      "---------------------------\n",
      "\n",
      "Введите 'parent_selection_type':\n",
      "\n",
      "something\n",
      "--------------------------------\n",
      "\n",
      "Введите 'cross_type':\n",
      "\n",
      "something\n",
      "---------------------\n",
      "\n",
      "Введите 'p_cross':\n",
      "\n",
      "0.5\n",
      "------------------\n",
      "\n",
      "Введите 'mutation_type':\n",
      "\n",
      "something\n",
      "------------------------\n",
      "\n",
      "Введите 'p_mutation':\n",
      "\n",
      "0.1\n",
      "---------------------\n",
      "\n",
      "Введите 'size_of_population':\n",
      "\n",
      "50\n",
      "-----------------------------\n",
      "\n",
      "Введите 'n_cities':\n",
      "\n",
      "\n",
      "Error: None - не число!\n",
      "Повторите ввод\n",
      "10\n",
      "-------------------\n",
      "\n",
      "Введите имя файла для 'matrix'\n",
      "hint: (файл должен находиться в текущей директории):\n",
      "\n",
      "\n",
      "Файл 'None' не найден! Попробуйте еще раз!\n",
      "test.csv\n",
      "-----------------------------------------------------------------------------------\n",
      "\n",
      "SUCCESSFUL\n"
     ]
    }
   ],
   "source": [
    "menu = menu(travelling_salesman)"
   ]
  },
  {
   "cell_type": "markdown",
   "metadata": {},
   "source": [
    "# Вывод словаря с введенными значениями"
   ]
  },
  {
   "cell_type": "code",
   "execution_count": 4,
   "metadata": {},
   "outputs": [
    {
     "data": {
      "text/plain": [
       "{'task': 'travelling_salesman',\n",
       " 'options': [{'n_iter': 50, 'type': 'natural'},\n",
       "  {'eps': 0.5, 'type': 'positive'},\n",
       "  {'fitness_all_type': 'max', 'type': 'fit'},\n",
       "  {'parent_selection_type': 'something', 'type': 'str'},\n",
       "  {'cross_type': 'something', 'type': 'str'},\n",
       "  {'p_cross': 0.5, 'type': 'probability'},\n",
       "  {'mutation_type': 'something', 'type': 'str'},\n",
       "  {'p_mutation': 0.1, 'type': 'probability'},\n",
       "  {'size_of_population': 50, 'type': 'natural'},\n",
       "  {'n_cities': 10, 'type': 'natural'},\n",
       "  {'matrix': 'test.csv', 'type': 'filename'}]}"
      ]
     },
     "execution_count": 4,
     "metadata": {},
     "output_type": "execute_result"
    }
   ],
   "source": [
    "menu.task_dict_full"
   ]
  },
  {
   "cell_type": "code",
   "execution_count": 5,
   "metadata": {},
   "outputs": [
    {
     "data": {
      "text/plain": [
       "{'n_iter': 50,\n",
       " 'eps': 0.5,\n",
       " 'fitness_all_type': 'max',\n",
       " 'parent_selection_type': 'something',\n",
       " 'cross_type': 'something',\n",
       " 'p_cross': 0.5,\n",
       " 'mutation_type': 'something',\n",
       " 'p_mutation': 0.1,\n",
       " 'size_of_population': 50,\n",
       " 'n_cities': 10,\n",
       " 'matrix': 'test.csv'}"
      ]
     },
     "execution_count": 5,
     "metadata": {},
     "output_type": "execute_result"
    }
   ],
   "source": [
    "menu.options"
   ]
  },
  {
   "cell_type": "code",
   "execution_count": 6,
   "metadata": {},
   "outputs": [
    {
     "data": {
      "text/plain": [
       "{'task': 'travelling_salesman',\n",
       " 'n_iter': 50,\n",
       " 'eps': 0.5,\n",
       " 'fitness_all_type': 'max',\n",
       " 'parent_selection_type': 'something',\n",
       " 'cross_type': 'something',\n",
       " 'p_cross': 0.5,\n",
       " 'mutation_type': 'something',\n",
       " 'p_mutation': 0.1,\n",
       " 'size_of_population': 50,\n",
       " 'n_cities': 10,\n",
       " 'matrix': 'test.csv'}"
      ]
     },
     "execution_count": 6,
     "metadata": {},
     "output_type": "execute_result"
    }
   ],
   "source": [
    "menu.task_with_options"
   ]
  },
  {
   "cell_type": "code",
   "execution_count": null,
   "metadata": {},
   "outputs": [],
   "source": []
  }
 ],
 "metadata": {
  "kernelspec": {
   "display_name": "Python 3",
   "language": "python",
   "name": "python3"
  },
  "language_info": {
   "codemirror_mode": {
    "name": "ipython",
    "version": 3
   },
   "file_extension": ".py",
   "mimetype": "text/x-python",
   "name": "python",
   "nbconvert_exporter": "python",
   "pygments_lexer": "ipython3",
   "version": "3.6.4"
  }
 },
 "nbformat": 4,
 "nbformat_minor": 2
}
